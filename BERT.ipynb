{
  "nbformat": 4,
  "nbformat_minor": 0,
  "metadata": {
    "colab": {
      "provenance": [],
      "gpuType": "T4"
    },
    "kernelspec": {
      "name": "python3",
      "display_name": "Python 3"
    },
    "language_info": {
      "name": "python"
    },
    "accelerator": "GPU"
  },
  "cells": [
    {
      "cell_type": "code",
      "execution_count": 1,
      "metadata": {
        "id": "jxTnzs-Hjxh3"
      },
      "outputs": [],
      "source": [
        "import tensorflow as tf\n",
        "from transformers import BertTokenizer, TFBertForSequenceClassification\n",
        "from sklearn.model_selection import train_test_split\n",
        "from sklearn.preprocessing import LabelEncoder\n",
        "import numpy as np\n",
        "import pandas as pd\n"
      ]
    },
    {
      "cell_type": "code",
      "source": [
        "df = pd.read_csv('balanced_df.csv')\n",
        "df.head(-10)"
      ],
      "metadata": {
        "colab": {
          "base_uri": "https://localhost:8080/",
          "height": 684
        },
        "id": "veeHNev6kYhM",
        "outputId": "d6c424c0-e10d-4242-f103-4a468650f06a"
      },
      "execution_count": 46,
      "outputs": [
        {
          "output_type": "execute_result",
          "data": {
            "text/plain": [
              "       reviewer_id store_location   latitude   longitude  date  month  \\\n",
              "0         151782.0             US  37.090240  -95.712891  2021      6   \n",
              "1          27155.0             US  37.090240  -95.712891  2023      1   \n",
              "2          72707.0             US  37.090240  -95.712891  2022      8   \n",
              "3           2766.0             US  37.090240  -95.712891  2023      6   \n",
              "4         240808.0             US  37.090240  -95.712891  2019      9   \n",
              "...            ...            ...        ...         ...   ...    ...   \n",
              "53630      95978.0             CA  56.130366 -106.346771  2022      5   \n",
              "53631     188654.0             US  37.090240  -95.712891  2020      9   \n",
              "53632     278034.0             CA  56.130366 -106.346771  2018      4   \n",
              "53633      12182.0             US  37.090240  -95.712891  2023      4   \n",
              "53634     232653.0             US  37.090240  -95.712891  2019     12   \n",
              "\n",
              "                year                                              title  \\\n",
              "0      2008 00:00:00  I like the tee shirt I ordered butï¿½ï¿½ï¿½ï¿½...   \n",
              "1      2001 00:00:00                       Poor quality and smelled bad   \n",
              "2      2007 00:00:00                    I did not get my complete order   \n",
              "3      2010 00:00:00      I never received the shirt I orderedï¿½ï¿½ï¿½   \n",
              "4      2028 00:00:00                            Too small, poor quality   \n",
              "...              ...                                                ...   \n",
              "53630  2001 00:00:00                                            Love it   \n",
              "53631  2023 00:00:00                        Fridge magnet and lapel pin   \n",
              "53632  2027 00:00:00                                      Great quality   \n",
              "53633  2016 00:00:00                         Punctuality was phenomenal   \n",
              "53634  2003 00:00:00                            fast and truthful great   \n",
              "\n",
              "                                                  review  review-label  \n",
              "0      like tee shirt order truth qualiti shirt self ...             1  \n",
              "1      order two differ item differ vendor shirt chea...             1  \n",
              "2                         get complet order im miss mask             1  \n",
              "3               never receiv shirt order get touch anyon             1  \n",
              "4      normal xl order xl could put long sleev shirt ...             1  \n",
              "...                                                  ...           ...  \n",
              "53630  bought friend one age ago lost arriv within we...             5  \n",
              "53631  item arriv good item undamag exactli pictur pl...             5  \n",
              "53632  great qualiti love shirt even splurg premium o...             5  \n",
              "53633               punctual phenomen got everyth expect             5  \n",
              "53634                                         fast truth             5  \n",
              "\n",
              "[53635 rows x 10 columns]"
            ],
            "text/html": [
              "\n",
              "  <div id=\"df-60add274-9054-442d-97c7-f3a3746e64de\" class=\"colab-df-container\">\n",
              "    <div>\n",
              "<style scoped>\n",
              "    .dataframe tbody tr th:only-of-type {\n",
              "        vertical-align: middle;\n",
              "    }\n",
              "\n",
              "    .dataframe tbody tr th {\n",
              "        vertical-align: top;\n",
              "    }\n",
              "\n",
              "    .dataframe thead th {\n",
              "        text-align: right;\n",
              "    }\n",
              "</style>\n",
              "<table border=\"1\" class=\"dataframe\">\n",
              "  <thead>\n",
              "    <tr style=\"text-align: right;\">\n",
              "      <th></th>\n",
              "      <th>reviewer_id</th>\n",
              "      <th>store_location</th>\n",
              "      <th>latitude</th>\n",
              "      <th>longitude</th>\n",
              "      <th>date</th>\n",
              "      <th>month</th>\n",
              "      <th>year</th>\n",
              "      <th>title</th>\n",
              "      <th>review</th>\n",
              "      <th>review-label</th>\n",
              "    </tr>\n",
              "  </thead>\n",
              "  <tbody>\n",
              "    <tr>\n",
              "      <th>0</th>\n",
              "      <td>151782.0</td>\n",
              "      <td>US</td>\n",
              "      <td>37.090240</td>\n",
              "      <td>-95.712891</td>\n",
              "      <td>2021</td>\n",
              "      <td>6</td>\n",
              "      <td>2008 00:00:00</td>\n",
              "      <td>I like the tee shirt I ordered butï¿½ï¿½ï¿½ï¿½...</td>\n",
              "      <td>like tee shirt order truth qualiti shirt self ...</td>\n",
              "      <td>1</td>\n",
              "    </tr>\n",
              "    <tr>\n",
              "      <th>1</th>\n",
              "      <td>27155.0</td>\n",
              "      <td>US</td>\n",
              "      <td>37.090240</td>\n",
              "      <td>-95.712891</td>\n",
              "      <td>2023</td>\n",
              "      <td>1</td>\n",
              "      <td>2001 00:00:00</td>\n",
              "      <td>Poor quality and smelled bad</td>\n",
              "      <td>order two differ item differ vendor shirt chea...</td>\n",
              "      <td>1</td>\n",
              "    </tr>\n",
              "    <tr>\n",
              "      <th>2</th>\n",
              "      <td>72707.0</td>\n",
              "      <td>US</td>\n",
              "      <td>37.090240</td>\n",
              "      <td>-95.712891</td>\n",
              "      <td>2022</td>\n",
              "      <td>8</td>\n",
              "      <td>2007 00:00:00</td>\n",
              "      <td>I did not get my complete order</td>\n",
              "      <td>get complet order im miss mask</td>\n",
              "      <td>1</td>\n",
              "    </tr>\n",
              "    <tr>\n",
              "      <th>3</th>\n",
              "      <td>2766.0</td>\n",
              "      <td>US</td>\n",
              "      <td>37.090240</td>\n",
              "      <td>-95.712891</td>\n",
              "      <td>2023</td>\n",
              "      <td>6</td>\n",
              "      <td>2010 00:00:00</td>\n",
              "      <td>I never received the shirt I orderedï¿½ï¿½ï¿½</td>\n",
              "      <td>never receiv shirt order get touch anyon</td>\n",
              "      <td>1</td>\n",
              "    </tr>\n",
              "    <tr>\n",
              "      <th>4</th>\n",
              "      <td>240808.0</td>\n",
              "      <td>US</td>\n",
              "      <td>37.090240</td>\n",
              "      <td>-95.712891</td>\n",
              "      <td>2019</td>\n",
              "      <td>9</td>\n",
              "      <td>2028 00:00:00</td>\n",
              "      <td>Too small, poor quality</td>\n",
              "      <td>normal xl order xl could put long sleev shirt ...</td>\n",
              "      <td>1</td>\n",
              "    </tr>\n",
              "    <tr>\n",
              "      <th>...</th>\n",
              "      <td>...</td>\n",
              "      <td>...</td>\n",
              "      <td>...</td>\n",
              "      <td>...</td>\n",
              "      <td>...</td>\n",
              "      <td>...</td>\n",
              "      <td>...</td>\n",
              "      <td>...</td>\n",
              "      <td>...</td>\n",
              "      <td>...</td>\n",
              "    </tr>\n",
              "    <tr>\n",
              "      <th>53630</th>\n",
              "      <td>95978.0</td>\n",
              "      <td>CA</td>\n",
              "      <td>56.130366</td>\n",
              "      <td>-106.346771</td>\n",
              "      <td>2022</td>\n",
              "      <td>5</td>\n",
              "      <td>2001 00:00:00</td>\n",
              "      <td>Love it</td>\n",
              "      <td>bought friend one age ago lost arriv within we...</td>\n",
              "      <td>5</td>\n",
              "    </tr>\n",
              "    <tr>\n",
              "      <th>53631</th>\n",
              "      <td>188654.0</td>\n",
              "      <td>US</td>\n",
              "      <td>37.090240</td>\n",
              "      <td>-95.712891</td>\n",
              "      <td>2020</td>\n",
              "      <td>9</td>\n",
              "      <td>2023 00:00:00</td>\n",
              "      <td>Fridge magnet and lapel pin</td>\n",
              "      <td>item arriv good item undamag exactli pictur pl...</td>\n",
              "      <td>5</td>\n",
              "    </tr>\n",
              "    <tr>\n",
              "      <th>53632</th>\n",
              "      <td>278034.0</td>\n",
              "      <td>CA</td>\n",
              "      <td>56.130366</td>\n",
              "      <td>-106.346771</td>\n",
              "      <td>2018</td>\n",
              "      <td>4</td>\n",
              "      <td>2027 00:00:00</td>\n",
              "      <td>Great quality</td>\n",
              "      <td>great qualiti love shirt even splurg premium o...</td>\n",
              "      <td>5</td>\n",
              "    </tr>\n",
              "    <tr>\n",
              "      <th>53633</th>\n",
              "      <td>12182.0</td>\n",
              "      <td>US</td>\n",
              "      <td>37.090240</td>\n",
              "      <td>-95.712891</td>\n",
              "      <td>2023</td>\n",
              "      <td>4</td>\n",
              "      <td>2016 00:00:00</td>\n",
              "      <td>Punctuality was phenomenal</td>\n",
              "      <td>punctual phenomen got everyth expect</td>\n",
              "      <td>5</td>\n",
              "    </tr>\n",
              "    <tr>\n",
              "      <th>53634</th>\n",
              "      <td>232653.0</td>\n",
              "      <td>US</td>\n",
              "      <td>37.090240</td>\n",
              "      <td>-95.712891</td>\n",
              "      <td>2019</td>\n",
              "      <td>12</td>\n",
              "      <td>2003 00:00:00</td>\n",
              "      <td>fast and truthful great</td>\n",
              "      <td>fast truth</td>\n",
              "      <td>5</td>\n",
              "    </tr>\n",
              "  </tbody>\n",
              "</table>\n",
              "<p>53635 rows × 10 columns</p>\n",
              "</div>\n",
              "    <div class=\"colab-df-buttons\">\n",
              "\n",
              "  <div class=\"colab-df-container\">\n",
              "    <button class=\"colab-df-convert\" onclick=\"convertToInteractive('df-60add274-9054-442d-97c7-f3a3746e64de')\"\n",
              "            title=\"Convert this dataframe to an interactive table.\"\n",
              "            style=\"display:none;\">\n",
              "\n",
              "  <svg xmlns=\"http://www.w3.org/2000/svg\" height=\"24px\" viewBox=\"0 -960 960 960\">\n",
              "    <path d=\"M120-120v-720h720v720H120Zm60-500h600v-160H180v160Zm220 220h160v-160H400v160Zm0 220h160v-160H400v160ZM180-400h160v-160H180v160Zm440 0h160v-160H620v160ZM180-180h160v-160H180v160Zm440 0h160v-160H620v160Z\"/>\n",
              "  </svg>\n",
              "    </button>\n",
              "\n",
              "  <style>\n",
              "    .colab-df-container {\n",
              "      display:flex;\n",
              "      gap: 12px;\n",
              "    }\n",
              "\n",
              "    .colab-df-convert {\n",
              "      background-color: #E8F0FE;\n",
              "      border: none;\n",
              "      border-radius: 50%;\n",
              "      cursor: pointer;\n",
              "      display: none;\n",
              "      fill: #1967D2;\n",
              "      height: 32px;\n",
              "      padding: 0 0 0 0;\n",
              "      width: 32px;\n",
              "    }\n",
              "\n",
              "    .colab-df-convert:hover {\n",
              "      background-color: #E2EBFA;\n",
              "      box-shadow: 0px 1px 2px rgba(60, 64, 67, 0.3), 0px 1px 3px 1px rgba(60, 64, 67, 0.15);\n",
              "      fill: #174EA6;\n",
              "    }\n",
              "\n",
              "    .colab-df-buttons div {\n",
              "      margin-bottom: 4px;\n",
              "    }\n",
              "\n",
              "    [theme=dark] .colab-df-convert {\n",
              "      background-color: #3B4455;\n",
              "      fill: #D2E3FC;\n",
              "    }\n",
              "\n",
              "    [theme=dark] .colab-df-convert:hover {\n",
              "      background-color: #434B5C;\n",
              "      box-shadow: 0px 1px 3px 1px rgba(0, 0, 0, 0.15);\n",
              "      filter: drop-shadow(0px 1px 2px rgba(0, 0, 0, 0.3));\n",
              "      fill: #FFFFFF;\n",
              "    }\n",
              "  </style>\n",
              "\n",
              "    <script>\n",
              "      const buttonEl =\n",
              "        document.querySelector('#df-60add274-9054-442d-97c7-f3a3746e64de button.colab-df-convert');\n",
              "      buttonEl.style.display =\n",
              "        google.colab.kernel.accessAllowed ? 'block' : 'none';\n",
              "\n",
              "      async function convertToInteractive(key) {\n",
              "        const element = document.querySelector('#df-60add274-9054-442d-97c7-f3a3746e64de');\n",
              "        const dataTable =\n",
              "          await google.colab.kernel.invokeFunction('convertToInteractive',\n",
              "                                                    [key], {});\n",
              "        if (!dataTable) return;\n",
              "\n",
              "        const docLinkHtml = 'Like what you see? Visit the ' +\n",
              "          '<a target=\"_blank\" href=https://colab.research.google.com/notebooks/data_table.ipynb>data table notebook</a>'\n",
              "          + ' to learn more about interactive tables.';\n",
              "        element.innerHTML = '';\n",
              "        dataTable['output_type'] = 'display_data';\n",
              "        await google.colab.output.renderOutput(dataTable, element);\n",
              "        const docLink = document.createElement('div');\n",
              "        docLink.innerHTML = docLinkHtml;\n",
              "        element.appendChild(docLink);\n",
              "      }\n",
              "    </script>\n",
              "  </div>\n",
              "\n",
              "\n",
              "<div id=\"df-09ef5cd3-876e-40eb-bb46-f0954573d7ea\">\n",
              "  <button class=\"colab-df-quickchart\" onclick=\"quickchart('df-09ef5cd3-876e-40eb-bb46-f0954573d7ea')\"\n",
              "            title=\"Suggest charts\"\n",
              "            style=\"display:none;\">\n",
              "\n",
              "<svg xmlns=\"http://www.w3.org/2000/svg\" height=\"24px\"viewBox=\"0 0 24 24\"\n",
              "     width=\"24px\">\n",
              "    <g>\n",
              "        <path d=\"M19 3H5c-1.1 0-2 .9-2 2v14c0 1.1.9 2 2 2h14c1.1 0 2-.9 2-2V5c0-1.1-.9-2-2-2zM9 17H7v-7h2v7zm4 0h-2V7h2v10zm4 0h-2v-4h2v4z\"/>\n",
              "    </g>\n",
              "</svg>\n",
              "  </button>\n",
              "\n",
              "<style>\n",
              "  .colab-df-quickchart {\n",
              "      --bg-color: #E8F0FE;\n",
              "      --fill-color: #1967D2;\n",
              "      --hover-bg-color: #E2EBFA;\n",
              "      --hover-fill-color: #174EA6;\n",
              "      --disabled-fill-color: #AAA;\n",
              "      --disabled-bg-color: #DDD;\n",
              "  }\n",
              "\n",
              "  [theme=dark] .colab-df-quickchart {\n",
              "      --bg-color: #3B4455;\n",
              "      --fill-color: #D2E3FC;\n",
              "      --hover-bg-color: #434B5C;\n",
              "      --hover-fill-color: #FFFFFF;\n",
              "      --disabled-bg-color: #3B4455;\n",
              "      --disabled-fill-color: #666;\n",
              "  }\n",
              "\n",
              "  .colab-df-quickchart {\n",
              "    background-color: var(--bg-color);\n",
              "    border: none;\n",
              "    border-radius: 50%;\n",
              "    cursor: pointer;\n",
              "    display: none;\n",
              "    fill: var(--fill-color);\n",
              "    height: 32px;\n",
              "    padding: 0;\n",
              "    width: 32px;\n",
              "  }\n",
              "\n",
              "  .colab-df-quickchart:hover {\n",
              "    background-color: var(--hover-bg-color);\n",
              "    box-shadow: 0 1px 2px rgba(60, 64, 67, 0.3), 0 1px 3px 1px rgba(60, 64, 67, 0.15);\n",
              "    fill: var(--button-hover-fill-color);\n",
              "  }\n",
              "\n",
              "  .colab-df-quickchart-complete:disabled,\n",
              "  .colab-df-quickchart-complete:disabled:hover {\n",
              "    background-color: var(--disabled-bg-color);\n",
              "    fill: var(--disabled-fill-color);\n",
              "    box-shadow: none;\n",
              "  }\n",
              "\n",
              "  .colab-df-spinner {\n",
              "    border: 2px solid var(--fill-color);\n",
              "    border-color: transparent;\n",
              "    border-bottom-color: var(--fill-color);\n",
              "    animation:\n",
              "      spin 1s steps(1) infinite;\n",
              "  }\n",
              "\n",
              "  @keyframes spin {\n",
              "    0% {\n",
              "      border-color: transparent;\n",
              "      border-bottom-color: var(--fill-color);\n",
              "      border-left-color: var(--fill-color);\n",
              "    }\n",
              "    20% {\n",
              "      border-color: transparent;\n",
              "      border-left-color: var(--fill-color);\n",
              "      border-top-color: var(--fill-color);\n",
              "    }\n",
              "    30% {\n",
              "      border-color: transparent;\n",
              "      border-left-color: var(--fill-color);\n",
              "      border-top-color: var(--fill-color);\n",
              "      border-right-color: var(--fill-color);\n",
              "    }\n",
              "    40% {\n",
              "      border-color: transparent;\n",
              "      border-right-color: var(--fill-color);\n",
              "      border-top-color: var(--fill-color);\n",
              "    }\n",
              "    60% {\n",
              "      border-color: transparent;\n",
              "      border-right-color: var(--fill-color);\n",
              "    }\n",
              "    80% {\n",
              "      border-color: transparent;\n",
              "      border-right-color: var(--fill-color);\n",
              "      border-bottom-color: var(--fill-color);\n",
              "    }\n",
              "    90% {\n",
              "      border-color: transparent;\n",
              "      border-bottom-color: var(--fill-color);\n",
              "    }\n",
              "  }\n",
              "</style>\n",
              "\n",
              "  <script>\n",
              "    async function quickchart(key) {\n",
              "      const quickchartButtonEl =\n",
              "        document.querySelector('#' + key + ' button');\n",
              "      quickchartButtonEl.disabled = true;  // To prevent multiple clicks.\n",
              "      quickchartButtonEl.classList.add('colab-df-spinner');\n",
              "      try {\n",
              "        const charts = await google.colab.kernel.invokeFunction(\n",
              "            'suggestCharts', [key], {});\n",
              "      } catch (error) {\n",
              "        console.error('Error during call to suggestCharts:', error);\n",
              "      }\n",
              "      quickchartButtonEl.classList.remove('colab-df-spinner');\n",
              "      quickchartButtonEl.classList.add('colab-df-quickchart-complete');\n",
              "    }\n",
              "    (() => {\n",
              "      let quickchartButtonEl =\n",
              "        document.querySelector('#df-09ef5cd3-876e-40eb-bb46-f0954573d7ea button');\n",
              "      quickchartButtonEl.style.display =\n",
              "        google.colab.kernel.accessAllowed ? 'block' : 'none';\n",
              "    })();\n",
              "  </script>\n",
              "</div>\n",
              "\n",
              "    </div>\n",
              "  </div>\n"
            ],
            "application/vnd.google.colaboratory.intrinsic+json": {
              "type": "dataframe",
              "variable_name": "df",
              "summary": "{\n  \"name\": \"df\",\n  \"rows\": 53645,\n  \"fields\": [\n    {\n      \"column\": \"reviewer_id\",\n      \"properties\": {\n        \"dtype\": \"number\",\n        \"std\": 79129.20802926685,\n        \"min\": 4.0,\n        \"max\": 278093.0,\n        \"num_unique_values\": 53645,\n        \"samples\": [\n          37165.0,\n          81682.0,\n          109709.0\n        ],\n        \"semantic_type\": \"\",\n        \"description\": \"\"\n      }\n    },\n    {\n      \"column\": \"store_location\",\n      \"properties\": {\n        \"dtype\": \"category\",\n        \"num_unique_values\": 98,\n        \"samples\": [\n          \"GG\",\n          \"TN\",\n          \"RS\"\n        ],\n        \"semantic_type\": \"\",\n        \"description\": \"\"\n      }\n    },\n    {\n      \"column\": \"latitude\",\n      \"properties\": {\n        \"dtype\": \"number\",\n        \"std\": 9.923834146933043,\n        \"min\": -40.900557,\n        \"max\": 64.963051,\n        \"num_unique_values\": 97,\n        \"samples\": [\n          49.4481982,\n          33.886917,\n          44.016521\n        ],\n        \"semantic_type\": \"\",\n        \"description\": \"\"\n      }\n    },\n    {\n      \"column\": \"longitude\",\n      \"properties\": {\n        \"dtype\": \"number\",\n        \"std\": 36.23012927241872,\n        \"min\": -106.346771,\n        \"max\": 174.885971,\n        \"num_unique_values\": 97,\n        \"samples\": [\n          -2.58949,\n          9.537499,\n          21.005859\n        ],\n        \"semantic_type\": \"\",\n        \"description\": \"\"\n      }\n    },\n    {\n      \"column\": \"date\",\n      \"properties\": {\n        \"dtype\": \"number\",\n        \"std\": 1,\n        \"min\": 2018,\n        \"max\": 2023,\n        \"num_unique_values\": 6,\n        \"samples\": [\n          2021,\n          2023,\n          2018\n        ],\n        \"semantic_type\": \"\",\n        \"description\": \"\"\n      }\n    },\n    {\n      \"column\": \"month\",\n      \"properties\": {\n        \"dtype\": \"number\",\n        \"std\": 3,\n        \"min\": 1,\n        \"max\": 12,\n        \"num_unique_values\": 12,\n        \"samples\": [\n          4,\n          5,\n          6\n        ],\n        \"semantic_type\": \"\",\n        \"description\": \"\"\n      }\n    },\n    {\n      \"column\": \"year\",\n      \"properties\": {\n        \"dtype\": \"object\",\n        \"num_unique_values\": 31,\n        \"samples\": [\n          \"2026 00:00:00\",\n          \"2003 00:00:00\",\n          \"2027 00:00:00\"\n        ],\n        \"semantic_type\": \"\",\n        \"description\": \"\"\n      }\n    },\n    {\n      \"column\": \"title\",\n      \"properties\": {\n        \"dtype\": \"string\",\n        \"num_unique_values\": 46408,\n        \"samples\": [\n          \"ordered xl hoodie\",\n          \"easy exchange\",\n          \"TSHIRT COLORS OFF.  The (second) tshirt \\\"fix\\\" was also off and duplicate.\"\n        ],\n        \"semantic_type\": \"\",\n        \"description\": \"\"\n      }\n    },\n    {\n      \"column\": \"review\",\n      \"properties\": {\n        \"dtype\": \"string\",\n        \"num_unique_values\": 53440,\n        \"samples\": [\n          \"phone number contact sent inquiri mess order go disput bank sinc way contact\",\n          \"shirt thin cheap probabl wear ship cost high sorri\",\n          \"love tee order boy also love wide varieti shirt\"\n        ],\n        \"semantic_type\": \"\",\n        \"description\": \"\"\n      }\n    },\n    {\n      \"column\": \"review-label\",\n      \"properties\": {\n        \"dtype\": \"number\",\n        \"std\": 1,\n        \"min\": 1,\n        \"max\": 5,\n        \"num_unique_values\": 5,\n        \"samples\": [\n          2,\n          5,\n          3\n        ],\n        \"semantic_type\": \"\",\n        \"description\": \"\"\n      }\n    }\n  ]\n}"
            }
          },
          "metadata": {},
          "execution_count": 46
        }
      ]
    },
    {
      "cell_type": "code",
      "source": [
        "X = list(df['review'])\n",
        "Y = df['review-label']"
      ],
      "metadata": {
        "id": "_GXsTn3tkmNa"
      },
      "execution_count": 65,
      "outputs": []
    },
    {
      "cell_type": "code",
      "source": [
        "label_encoder = LabelEncoder()\n",
        "Y = label_encoder.fit_transform(Y)"
      ],
      "metadata": {
        "id": "XQSu4HUik6zc"
      },
      "execution_count": 66,
      "outputs": []
    },
    {
      "cell_type": "code",
      "source": [
        "x_train, x_test, Y_train, Y_test = train_test_split(X, Y, test_size=0.2, random_state=42)\n",
        "x_train, x_val, Y_train, Y_val = train_test_split(x_train, Y_train, test_size=0.25, random_state=42)\n"
      ],
      "metadata": {
        "id": "PTKOFTr2mCY9"
      },
      "execution_count": 67,
      "outputs": []
    },
    {
      "cell_type": "code",
      "source": [
        "x_train = [str(x) for x in x_train if isinstance(x, (str, int, float))]\n",
        "x_val = [str(x) for x in x_val if isinstance(x, (str, int, float))]\n",
        "x_test = [str(x) for x in x_test if isinstance(x, (str, int, float))]\n",
        "#"
      ],
      "metadata": {
        "id": "4cGuWc2Uumu3"
      },
      "execution_count": 73,
      "outputs": []
    },
    {
      "cell_type": "code",
      "source": [
        "tokenizer = BertTokenizer.from_pretrained('bert-base-uncased')"
      ],
      "metadata": {
        "colab": {
          "base_uri": "https://localhost:8080/"
        },
        "id": "0WajCRhpmJI-",
        "outputId": "eccf396e-8aba-4389-fcbd-c6c5a344e33e"
      },
      "execution_count": 68,
      "outputs": [
        {
          "output_type": "stream",
          "name": "stderr",
          "text": [
            "/usr/local/lib/python3.10/dist-packages/transformers/tokenization_utils_base.py:1601: FutureWarning: `clean_up_tokenization_spaces` was not set. It will be set to `True` by default. This behavior will be depracted in transformers v4.45, and will be then set to `False` by default. For more details check this issue: https://github.com/huggingface/transformers/issues/31884\n",
            "  warnings.warn(\n"
          ]
        }
      ]
    },
    {
      "cell_type": "code",
      "source": [
        "def tokenize_data(texts, tokenizer, max_length=64):\n",
        "    return tokenizer(\n",
        "        texts,\n",
        "        padding=True,\n",
        "        truncation=True,\n",
        "        max_length=max_length,\n",
        "        return_tensors=\"tf\"\n",
        "    )"
      ],
      "metadata": {
        "id": "a-f7nPBFmMJF"
      },
      "execution_count": 85,
      "outputs": []
    },
    {
      "cell_type": "code",
      "source": [
        "train_encodings = tokenize_data(x_train, tokenizer)\n",
        "val_encodings = tokenize_data(x_val, tokenizer)"
      ],
      "metadata": {
        "id": "ETp7Qi70nWQt"
      },
      "execution_count": 86,
      "outputs": []
    },
    {
      "cell_type": "code",
      "source": [
        "train_encodings['input_ids'][602].shape\n"
      ],
      "metadata": {
        "colab": {
          "base_uri": "https://localhost:8080/"
        },
        "id": "84lDwlBn0KUH",
        "outputId": "8d0a5fcc-88ab-49f7-cd26-35baa75ffb24"
      },
      "execution_count": 87,
      "outputs": [
        {
          "output_type": "execute_result",
          "data": {
            "text/plain": [
              "TensorShape([64])"
            ]
          },
          "metadata": {},
          "execution_count": 87
        }
      ]
    },
    {
      "cell_type": "code",
      "source": [
        "model = TFBertForSequenceClassification.from_pretrained('bert-base-uncased', num_labels=5)"
      ],
      "metadata": {
        "colab": {
          "base_uri": "https://localhost:8080/"
        },
        "id": "CK5UakQnncz_",
        "outputId": "b6aa37a6-1243-4b12-fde9-90978783c364"
      },
      "execution_count": 88,
      "outputs": [
        {
          "output_type": "stream",
          "name": "stderr",
          "text": [
            "All PyTorch model weights were used when initializing TFBertForSequenceClassification.\n",
            "\n",
            "Some weights or buffers of the TF 2.0 model TFBertForSequenceClassification were not initialized from the PyTorch model and are newly initialized: ['classifier.weight', 'classifier.bias']\n",
            "You should probably TRAIN this model on a down-stream task to be able to use it for predictions and inference.\n"
          ]
        }
      ]
    },
    {
      "cell_type": "code",
      "source": [
        "model.compile(optimizer=tf.keras.optimizers.Adam(learning_rate=5e-5),\n",
        "              loss=tf.keras.losses.SparseCategoricalCrossentropy(from_logits=True),\n",
        "              metrics=['accuracy'])"
      ],
      "metadata": {
        "id": "CPsFQRZPnzgO"
      },
      "execution_count": 89,
      "outputs": []
    },
    {
      "cell_type": "code",
      "source": [
        "history = model.fit(\n",
        "    train_encodings['input_ids'], np.array(Y_train),\n",
        "    validation_data=(val_encodings['input_ids'], np.array(Y_val)),\n",
        "    epochs=10,\n",
        "    batch_size=32\n",
        ")"
      ],
      "metadata": {
        "colab": {
          "base_uri": "https://localhost:8080/"
        },
        "id": "52m0hXzsnz_3",
        "outputId": "ba37252d-d986-46f4-b45e-84e3952246b4"
      },
      "execution_count": null,
      "outputs": [
        {
          "output_type": "stream",
          "name": "stdout",
          "text": [
            "Epoch 1/10\n",
            "1006/1006 [==============================] - 469s 466ms/step - loss: 0.7095 - accuracy: 0.7070 - val_loss: 1.1960 - val_accuracy: 0.5390\n",
            "Epoch 2/10\n",
            "1006/1006 [==============================] - 504s 501ms/step - loss: 0.5658 - accuracy: 0.7755 - val_loss: 1.3321 - val_accuracy: 0.5348\n",
            "Epoch 3/10\n",
            " 351/1006 [=========>....................] - ETA: 4:33 - loss: 0.4108 - accuracy: 0.8417"
          ]
        }
      ]
    },
    {
      "cell_type": "code",
      "source": [
        "# Evaluate the model on validation set\n",
        "results = model.evaluate(val_encodings['input_ids'], np.array(Y_val))\n",
        "print(f\"Validation Accuracy: {results[1]:.4f}\")"
      ],
      "metadata": {
        "colab": {
          "base_uri": "https://localhost:8080/"
        },
        "id": "fb84Q6lFn1_G",
        "outputId": "e148f181-7afd-4ae6-fed3-4d3f33e1c883"
      },
      "execution_count": 91,
      "outputs": [
        {
          "output_type": "stream",
          "name": "stdout",
          "text": [
            "336/336 [==============================] - 48s 142ms/step - loss: 1.1124 - accuracy: 0.5415\n",
            "Validation Accuracy: 0.5415\n"
          ]
        }
      ]
    },
    {
      "cell_type": "code",
      "source": [
        "test_prediction = model.predict(val_encodings['input_ids'])\n"
      ],
      "metadata": {
        "colab": {
          "base_uri": "https://localhost:8080/"
        },
        "id": "CjAF14ICpRzl",
        "outputId": "1c50c3ee-8ba1-40e1-cab4-374f9749dc81"
      },
      "execution_count": 19,
      "outputs": [
        {
          "output_type": "stream",
          "name": "stdout",
          "text": [
            "63/63 [==============================] - 23s 277ms/step\n"
          ]
        }
      ]
    },
    {
      "cell_type": "code",
      "source": [
        "from sklearn.metrics import classification_report"
      ],
      "metadata": {
        "id": "GRJFW6sArHJk"
      },
      "execution_count": 20,
      "outputs": []
    },
    {
      "cell_type": "code",
      "source": [],
      "metadata": {
        "id": "oSTSS2GIrY6w"
      },
      "execution_count": null,
      "outputs": []
    }
  ]
}